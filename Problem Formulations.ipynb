{
 "cells": [
  {
   "cell_type": "code",
   "execution_count": null,
   "metadata": {
    "pycharm": {
     "name": "#%%\n",
     "is_executing": true
    }
   },
   "outputs": [],
   "source": [
    "import numpy as np\n",
    "import scipy as sp\n",
    "import pandas as pd\n",
    "import matplotlib.pyplot as plt\n",
    "import seaborn as sns\n",
    "sns.set_style('white')\n",
    "import networkx as nx"
   ]
  },
  {
   "cell_type": "code",
   "execution_count": null,
   "outputs": [],
   "source": [
    "from ema_workbench import (Model, MultiprocessingEvaluator, RealParameter,  CategoricalParameter, IntegerParameter, RealParameter, ScalarOutcome, TimeSeriesOutcome, Policy, Scenario, ema_logging, Constant)\n",
    "\n",
    "from ema_workbench.em_framework.evaluators import perform_experiments, Samplers, LHSSampler, SobolSampler,MorrisSampler\n",
    "from ema_workbench.em_framework.samplers import sample_uncertainties\n",
    "from ema_workbench.util import ema_logging\n",
    "from ema_workbench.analysis import feature_scoring, parcoords\n",
    "from ema_workbench.analysis.scenario_discovery_util import RuleInductionType\n",
    "from ema_workbench.em_framework.salib_samplers import get_SALib_problem\n",
    "from problem_formulation import get_model_for_problem_formulation\n",
    "\n",
    "import time\n",
    "\n",
    "from SALib.analyze import sobol"
   ],
   "metadata": {
    "collapsed": false,
    "pycharm": {
     "name": "#%%\n"
    }
   }
  },
  {
   "cell_type": "code",
   "execution_count": null,
   "metadata": {
    "pycharm": {
     "name": "#%%\n",
     "is_executing": true
    }
   },
   "outputs": [],
   "source": [
    "# make sure pandas is version 1.0 or higher\n",
    "# make sure networkx is verion 2.4 or higher\n",
    "print(pd.__version__)\n",
    "print(nx.__version__)"
   ]
  },
  {
   "cell_type": "code",
   "execution_count": null,
   "metadata": {
    "scrolled": true,
    "pycharm": {
     "name": "#%%\n",
     "is_executing": true
    }
   },
   "outputs": [],
   "source": [
    "from dike_model_function import DikeNetwork  # @UnresolvedImport\n",
    "\n",
    "def sum_over(*args):\n",
    "    return sum(args)"
   ]
  },
  {
   "cell_type": "code",
   "execution_count": null,
   "metadata": {
    "pycharm": {
     "name": "#%%\n",
     "is_executing": true
    }
   },
   "outputs": [],
   "source": [
    "ema_logging.log_to_stderr(ema_logging.INFO)\n",
    "\n",
    "#choose problem formulation number, between 0-5\n",
    "#each problem formulation has its own list of outcomes\n",
    "dike_model, planning_steps = get_model_for_problem_formulation(3)"
   ]
  },
  {
   "cell_type": "code",
   "execution_count": null,
   "metadata": {
    "pycharm": {
     "name": "#%%\n",
     "is_executing": true
    }
   },
   "outputs": [],
   "source": [
    "#enlisting uncertainties, their types (RealParameter/IntegerParameter/CategoricalParameter), lower boundary, and upper boundary\n",
    "for unc in dike_model.uncertainties:\n",
    "    print(repr(unc))\n",
    "\n",
    "uncertainties = dike_model.uncertainties\n",
    "\n",
    "import copy\n",
    "uncertainties = copy.deepcopy(dike_model.uncertainties)"
   ]
  },
  {
   "cell_type": "code",
   "execution_count": null,
   "metadata": {
    "pycharm": {
     "name": "#%%\n",
     "is_executing": true
    }
   },
   "outputs": [],
   "source": [
    "#enlisting policy levers, their types (RealParameter/IntegerParameter), lower boundary, and upper boundary\n",
    "for policy in dike_model.levers:\n",
    "    print(repr(policy))\n",
    "    \n",
    "levers = dike_model.levers \n",
    "\n",
    "import copy\n",
    "levers = copy.deepcopy(dike_model.levers)"
   ]
  },
  {
   "cell_type": "code",
   "execution_count": null,
   "metadata": {
    "pycharm": {
     "name": "#%%\n",
     "is_executing": true
    }
   },
   "outputs": [],
   "source": [
    "#enlisting outcomes\n",
    "for outcome in dike_model.outcomes:\n",
    "    print(repr(outcome))"
   ]
  },
  {
   "cell_type": "markdown",
   "source": [],
   "metadata": {
    "collapsed": false,
    "pycharm": {
     "name": "#%% md\n"
    }
   }
  },
  {
   "cell_type": "code",
   "execution_count": 16,
   "metadata": {
    "pycharm": {
     "name": "#%%\n"
    }
   },
   "outputs": [
    {
     "name": "stderr",
     "output_type": "stream",
     "text": [
      "[MainProcess/INFO] pool started with 16 workers\n",
      "[MainProcess/INFO] performing 50 scenarios * 4 policies * 1 model(s) = 200 experiments\n",
      "100%|████████████████████████████████████████| 200/200 [00:42<00:00,  4.71it/s]\n",
      "[MainProcess/INFO] experiments finished\n",
      "[MainProcess/INFO] terminating pool\n"
     ]
    }
   ],
   "source": [
    "#running the model through EMA workbench\n",
    "ema_logging.log_to_stderr(ema_logging.INFO)\n",
    "\n",
    "#open exploration with 4 policies, random\n",
    "with MultiprocessingEvaluator(dike_model) as evaluator:\n",
    "    results = evaluator.perform_experiments(scenarios=50, policies=4)\n"
   ]
  },
  {
   "cell_type": "code",
   "execution_count": 17,
   "metadata": {
    "scrolled": true,
    "pycharm": {
     "name": "#%%\n"
    }
   },
   "outputs": [
    {
     "name": "stdout",
     "output_type": "stream",
     "text": [
      "dict_keys(['A.1 Total Costs', 'A.1_Expected Number of Deaths', 'A.2 Total Costs', 'A.2_Expected Number of Deaths', 'A.3 Total Costs', 'A.3_Expected Number of Deaths', 'A.4 Total Costs', 'A.4_Expected Number of Deaths', 'A.5 Total Costs', 'A.5_Expected Number of Deaths', 'RfR Total Costs', 'Expected Evacuation Costs'])\n"
     ]
    },
    {
     "data": {
      "text/plain": "     A.0_ID flood wave shape    A.1_Bmax A.1_Brate  A.1_pfail    A.2_Bmax  \\\n0                         92  291.056735        10   0.989256  327.166666   \n1                        109  275.440636        10   0.471762  199.945526   \n2                         66   81.818186       1.0   0.386689  178.301024   \n3                         59  262.688779        10   0.247307  166.196041   \n4                         55   74.139748       1.5   0.282172  163.617240   \n..                       ...         ...       ...        ...         ...   \n195                       48  260.357148       1.0   0.210712   92.311258   \n196                       96  192.217283       1.0   0.514107   33.602667   \n197                      122  174.426556       1.5   0.374380  269.508840   \n198                      105  148.382662       1.5   0.808039  134.062635   \n199                       35   92.571699        10   0.173397  102.544342   \n\n    A.2_Brate  A.2_pfail    A.3_Bmax A.3_Brate  A.3_pfail  ...  \\\n0         1.0   0.235870  160.966070       1.5   0.833672  ...   \n1         1.0   0.888496   95.439077        10   0.220239  ...   \n2          10   0.772782  212.303368       1.0   0.054542  ...   \n3         1.0   0.686789   42.823433       1.0   0.759803  ...   \n4          10   0.462925   80.991712       1.5   0.188729  ...   \n..        ...        ...         ...       ...        ...  ...   \n195       1.0   0.093028  243.192281       1.0   0.208908  ...   \n196        10   0.569630  185.669064        10   0.257574  ...   \n197       1.5   0.932860  154.080586        10   0.852692  ...   \n198       1.0   0.011585  207.003346       1.5   0.097246  ...   \n199       1.0   0.834655  144.946709        10   0.533723  ...   \n\n     A.4_DikeIncrease 0 A.4_DikeIncrease 1  A.4_DikeIncrease 2  \\\n0                    10                  2                   6   \n1                    10                  2                   6   \n2                    10                  2                   6   \n3                    10                  2                   6   \n4                    10                  2                   6   \n..                  ...                ...                 ...   \n195                   1                  1                   2   \n196                   1                  1                   2   \n197                   1                  1                   2   \n198                   1                  1                   2   \n199                   1                  1                   2   \n\n     A.5_DikeIncrease 0 A.5_DikeIncrease 1  A.5_DikeIncrease 2  \\\n0                     8                  1                   7   \n1                     8                  1                   7   \n2                     8                  1                   7   \n3                     8                  1                   7   \n4                     8                  1                   7   \n..                  ...                ...                 ...   \n195                   0                  8                   1   \n196                   0                  8                   1   \n197                   0                  8                   1   \n198                   0                  8                   1   \n199                   0                  8                   1   \n\n    EWS_DaysToThreat scenario policy     model  \n0                  0        4      0  dikesnet  \n1                  0        5      0  dikesnet  \n2                  0        6      0  dikesnet  \n3                  0        7      0  dikesnet  \n4                  0        8      0  dikesnet  \n..               ...      ...    ...       ...  \n195                4       49      3  dikesnet  \n196                4       50      3  dikesnet  \n197                4       51      3  dikesnet  \n198                4       52      3  dikesnet  \n199                4       53      3  dikesnet  \n\n[200 rows x 53 columns]",
      "text/html": "<div>\n<style scoped>\n    .dataframe tbody tr th:only-of-type {\n        vertical-align: middle;\n    }\n\n    .dataframe tbody tr th {\n        vertical-align: top;\n    }\n\n    .dataframe thead th {\n        text-align: right;\n    }\n</style>\n<table border=\"1\" class=\"dataframe\">\n  <thead>\n    <tr style=\"text-align: right;\">\n      <th></th>\n      <th>A.0_ID flood wave shape</th>\n      <th>A.1_Bmax</th>\n      <th>A.1_Brate</th>\n      <th>A.1_pfail</th>\n      <th>A.2_Bmax</th>\n      <th>A.2_Brate</th>\n      <th>A.2_pfail</th>\n      <th>A.3_Bmax</th>\n      <th>A.3_Brate</th>\n      <th>A.3_pfail</th>\n      <th>...</th>\n      <th>A.4_DikeIncrease 0</th>\n      <th>A.4_DikeIncrease 1</th>\n      <th>A.4_DikeIncrease 2</th>\n      <th>A.5_DikeIncrease 0</th>\n      <th>A.5_DikeIncrease 1</th>\n      <th>A.5_DikeIncrease 2</th>\n      <th>EWS_DaysToThreat</th>\n      <th>scenario</th>\n      <th>policy</th>\n      <th>model</th>\n    </tr>\n  </thead>\n  <tbody>\n    <tr>\n      <th>0</th>\n      <td>92</td>\n      <td>291.056735</td>\n      <td>10</td>\n      <td>0.989256</td>\n      <td>327.166666</td>\n      <td>1.0</td>\n      <td>0.235870</td>\n      <td>160.966070</td>\n      <td>1.5</td>\n      <td>0.833672</td>\n      <td>...</td>\n      <td>10</td>\n      <td>2</td>\n      <td>6</td>\n      <td>8</td>\n      <td>1</td>\n      <td>7</td>\n      <td>0</td>\n      <td>4</td>\n      <td>0</td>\n      <td>dikesnet</td>\n    </tr>\n    <tr>\n      <th>1</th>\n      <td>109</td>\n      <td>275.440636</td>\n      <td>10</td>\n      <td>0.471762</td>\n      <td>199.945526</td>\n      <td>1.0</td>\n      <td>0.888496</td>\n      <td>95.439077</td>\n      <td>10</td>\n      <td>0.220239</td>\n      <td>...</td>\n      <td>10</td>\n      <td>2</td>\n      <td>6</td>\n      <td>8</td>\n      <td>1</td>\n      <td>7</td>\n      <td>0</td>\n      <td>5</td>\n      <td>0</td>\n      <td>dikesnet</td>\n    </tr>\n    <tr>\n      <th>2</th>\n      <td>66</td>\n      <td>81.818186</td>\n      <td>1.0</td>\n      <td>0.386689</td>\n      <td>178.301024</td>\n      <td>10</td>\n      <td>0.772782</td>\n      <td>212.303368</td>\n      <td>1.0</td>\n      <td>0.054542</td>\n      <td>...</td>\n      <td>10</td>\n      <td>2</td>\n      <td>6</td>\n      <td>8</td>\n      <td>1</td>\n      <td>7</td>\n      <td>0</td>\n      <td>6</td>\n      <td>0</td>\n      <td>dikesnet</td>\n    </tr>\n    <tr>\n      <th>3</th>\n      <td>59</td>\n      <td>262.688779</td>\n      <td>10</td>\n      <td>0.247307</td>\n      <td>166.196041</td>\n      <td>1.0</td>\n      <td>0.686789</td>\n      <td>42.823433</td>\n      <td>1.0</td>\n      <td>0.759803</td>\n      <td>...</td>\n      <td>10</td>\n      <td>2</td>\n      <td>6</td>\n      <td>8</td>\n      <td>1</td>\n      <td>7</td>\n      <td>0</td>\n      <td>7</td>\n      <td>0</td>\n      <td>dikesnet</td>\n    </tr>\n    <tr>\n      <th>4</th>\n      <td>55</td>\n      <td>74.139748</td>\n      <td>1.5</td>\n      <td>0.282172</td>\n      <td>163.617240</td>\n      <td>10</td>\n      <td>0.462925</td>\n      <td>80.991712</td>\n      <td>1.5</td>\n      <td>0.188729</td>\n      <td>...</td>\n      <td>10</td>\n      <td>2</td>\n      <td>6</td>\n      <td>8</td>\n      <td>1</td>\n      <td>7</td>\n      <td>0</td>\n      <td>8</td>\n      <td>0</td>\n      <td>dikesnet</td>\n    </tr>\n    <tr>\n      <th>...</th>\n      <td>...</td>\n      <td>...</td>\n      <td>...</td>\n      <td>...</td>\n      <td>...</td>\n      <td>...</td>\n      <td>...</td>\n      <td>...</td>\n      <td>...</td>\n      <td>...</td>\n      <td>...</td>\n      <td>...</td>\n      <td>...</td>\n      <td>...</td>\n      <td>...</td>\n      <td>...</td>\n      <td>...</td>\n      <td>...</td>\n      <td>...</td>\n      <td>...</td>\n      <td>...</td>\n    </tr>\n    <tr>\n      <th>195</th>\n      <td>48</td>\n      <td>260.357148</td>\n      <td>1.0</td>\n      <td>0.210712</td>\n      <td>92.311258</td>\n      <td>1.0</td>\n      <td>0.093028</td>\n      <td>243.192281</td>\n      <td>1.0</td>\n      <td>0.208908</td>\n      <td>...</td>\n      <td>1</td>\n      <td>1</td>\n      <td>2</td>\n      <td>0</td>\n      <td>8</td>\n      <td>1</td>\n      <td>4</td>\n      <td>49</td>\n      <td>3</td>\n      <td>dikesnet</td>\n    </tr>\n    <tr>\n      <th>196</th>\n      <td>96</td>\n      <td>192.217283</td>\n      <td>1.0</td>\n      <td>0.514107</td>\n      <td>33.602667</td>\n      <td>10</td>\n      <td>0.569630</td>\n      <td>185.669064</td>\n      <td>10</td>\n      <td>0.257574</td>\n      <td>...</td>\n      <td>1</td>\n      <td>1</td>\n      <td>2</td>\n      <td>0</td>\n      <td>8</td>\n      <td>1</td>\n      <td>4</td>\n      <td>50</td>\n      <td>3</td>\n      <td>dikesnet</td>\n    </tr>\n    <tr>\n      <th>197</th>\n      <td>122</td>\n      <td>174.426556</td>\n      <td>1.5</td>\n      <td>0.374380</td>\n      <td>269.508840</td>\n      <td>1.5</td>\n      <td>0.932860</td>\n      <td>154.080586</td>\n      <td>10</td>\n      <td>0.852692</td>\n      <td>...</td>\n      <td>1</td>\n      <td>1</td>\n      <td>2</td>\n      <td>0</td>\n      <td>8</td>\n      <td>1</td>\n      <td>4</td>\n      <td>51</td>\n      <td>3</td>\n      <td>dikesnet</td>\n    </tr>\n    <tr>\n      <th>198</th>\n      <td>105</td>\n      <td>148.382662</td>\n      <td>1.5</td>\n      <td>0.808039</td>\n      <td>134.062635</td>\n      <td>1.0</td>\n      <td>0.011585</td>\n      <td>207.003346</td>\n      <td>1.5</td>\n      <td>0.097246</td>\n      <td>...</td>\n      <td>1</td>\n      <td>1</td>\n      <td>2</td>\n      <td>0</td>\n      <td>8</td>\n      <td>1</td>\n      <td>4</td>\n      <td>52</td>\n      <td>3</td>\n      <td>dikesnet</td>\n    </tr>\n    <tr>\n      <th>199</th>\n      <td>35</td>\n      <td>92.571699</td>\n      <td>10</td>\n      <td>0.173397</td>\n      <td>102.544342</td>\n      <td>1.0</td>\n      <td>0.834655</td>\n      <td>144.946709</td>\n      <td>10</td>\n      <td>0.533723</td>\n      <td>...</td>\n      <td>1</td>\n      <td>1</td>\n      <td>2</td>\n      <td>0</td>\n      <td>8</td>\n      <td>1</td>\n      <td>4</td>\n      <td>53</td>\n      <td>3</td>\n      <td>dikesnet</td>\n    </tr>\n  </tbody>\n</table>\n<p>200 rows × 53 columns</p>\n</div>"
     },
     "execution_count": 17,
     "metadata": {},
     "output_type": "execute_result"
    }
   ],
   "source": [
    "#observing the simulation runs\n",
    "experiments, outcomes = results\n",
    "print(outcomes.keys())\n",
    "experiments"
   ]
  },
  {
   "cell_type": "code",
   "execution_count": null,
   "outputs": [],
   "source": [
    "outcomes['A.1 Total Costs'].shape\n",
    "problem = get_SALib_problem(uncertainties)\n",
    "print(problem)"
   ],
   "metadata": {
    "collapsed": false,
    "pycharm": {
     "name": "#%%\n",
     "is_executing": true
    }
   }
  },
  {
   "cell_type": "code",
   "execution_count": null,
   "outputs": [],
   "source": [
    "#SOBOL SENSITIVITY ANALYSIS\n",
    "#to see how much the uncertainties add to the variance of the outcomes\n",
    "\n",
    "with MultiprocessingEvaluator(dike_model) as evaluator:\n",
    "   sobol_results = evaluator.perform_experiments(scenarios=50, policies=4, uncertainty_sampling=Samplers.SOBOL)\n",
    "experiments_sobol, outcomes_sobol = sobol_results"
   ],
   "metadata": {
    "collapsed": false,
    "pycharm": {
     "name": "#%%\n"
    }
   }
  },
  {
   "cell_type": "code",
   "execution_count": null,
   "outputs": [],
   "source": [
    "#making a list of the outcome names\n",
    "outcome_options = ['A.1 Total Costs', 'A.1_Expected Number of Deaths', 'A.2 Total Costs', 'A.2_Expected Number of Deaths', 'A.3 Total Costs', 'A.3_Expected Number of Deaths', 'A.4 Total Costs', 'A.4_Expected Number of Deaths', 'A.5 Total Costs', 'A.5_Expected Number of Deaths','RfR Total Costs', 'Expected Evacuation Costs']\n",
    "\n",
    "problem = get_SALib_problem(dike_model.uncertainties)\n",
    "\n",
    "#making a sobol table and sobol figure that shows how much the variable contributes to the variance on its own (first order effects = S1) and contributes when including interactions with other inputs (total effects = ST)\n",
    "for option in outcome_options:\n",
    "    outcome_sobol = np.squeeze(outcomes_sobol[option])\n",
    "    Si = sobol.analyze(problem, outcome_sobol, calc_second_order=True, print_to_console=False)\n",
    "    Si_filter = {k: Si[k] for k in [\"ST\", \"ST_conf\", \"S1\", \"S1_conf\"]}\n",
    "    Si_df = pd.DataFrame(Si_filter, index=problem[\"names\"])\n",
    "    print(option)\n",
    "    print(Si_df)\n",
    "    sns.set_style('white')\n",
    "    fig, ax = plt.subplots(1)\n",
    "\n",
    "    indices = Si_df[['S1','ST']]\n",
    "    err = Si_df[['S1_conf','ST_conf']]\n",
    "\n",
    "    indices.plot.bar(yerr=err.values.T,ax=ax)\n",
    "    fig.set_size_inches(8,6)\n",
    "    fig.subplots_adjust(bottom=0.3)\n",
    "    plt.show()\n"
   ],
   "metadata": {
    "collapsed": false,
    "pycharm": {
     "name": "#%%\n"
    }
   }
  },
  {
   "cell_type": "code",
   "execution_count": null,
   "outputs": [],
   "source": [
    "#MORDM - Many objectives robust decision making\n",
    "#All the outcomes need to be minimized in the ideal situation, because all types of costs and all deaths should be as low as possible\n",
    "dike_model.outcomes = [ScalarOutcome('A.1 Total Costs', kind=ScalarOutcome.MINIMIZE),\n",
    "                       ScalarOutcome('A.1_Expected Number of Deaths', kind=ScalarOutcome.MINIMIZE),\n",
    "                       ScalarOutcome('A.2 Total Costs', kind=ScalarOutcome.MINIMIZE),\n",
    "                       ScalarOutcome('A.2_Expected Number of Deaths', kind=ScalarOutcome.MINIMIZE),\n",
    "                       ScalarOutcome('A.3 Total Costs', kind=ScalarOutcome.MINIMIZE),\n",
    "                       ScalarOutcome('A.3_Expected Number of Deaths', kind=ScalarOutcome.MINIMIZE),\n",
    "                       ScalarOutcome('A.4 Total Costs', kind=ScalarOutcome.MINIMIZE),\n",
    "                       ScalarOutcome('A.4_Expected Number of Deaths', kind=ScalarOutcome.MINIMIZE),\n",
    "                       ScalarOutcome('A.5 Total Costs', kind=ScalarOutcome.MINIMIZE),\n",
    "                       ScalarOutcome('A.5_Expected Number of Deaths', kind=ScalarOutcome.MINIMIZE),\n",
    "                       ScalarOutcome('RfR Total Costs', kind=ScalarOutcome.MINIMIZE),\n",
    "                       ScalarOutcome('Expected Evacuation Costs', kind=ScalarOutcome.MINIMIZE),\n",
    "                       ]"
   ],
   "metadata": {
    "collapsed": false,
    "pycharm": {
     "name": "#%%\n"
    }
   }
  },
  {
   "cell_type": "code",
   "execution_count": null,
   "outputs": [],
   "source": [
    "with MultiprocessingEvaluator(dike_model) as evaluator:\n",
    "    results = evaluator.optimize(epsilons=[0.1, 0.1], nfe=100)"
   ],
   "metadata": {
    "collapsed": false,
    "pycharm": {
     "name": "#%%\n"
    }
   }
  },
  {
   "cell_type": "code",
   "execution_count": null,
   "metadata": {
    "pycharm": {
     "name": "#%%\n",
     "is_executing": true
    }
   },
   "outputs": [],
   "source": [
    "#defining specific policies\n",
    "#for example, policy 1 is about extra protection in upper boundary\n",
    "#policy 2 is about extra protection in lower boundary\n",
    "#policy 3 is extra protection in random locations\n",
    "from ema_workbench import Policy\n",
    "\n",
    "policies = [Policy('policy 1', **{'0_RfR 0':1,\n",
    "                                  '0_RfR 1':1,\n",
    "                                  '0_RfR 2':1,\n",
    "                                  'A.1_DikeIncrease 0':5}),\n",
    "           Policy('policy 2', **{'4_RfR 0':1,\n",
    "                                  '4_RfR 1':1,\n",
    "                                  '4_RfR 2':1,\n",
    "                                  'A.5_DikeIncrease 0':5}),\n",
    "           Policy('policy 3', **{'1_RfR 0':1,\n",
    "                                  '2_RfR 1':1,\n",
    "                                  '3_RfR 2':1,\n",
    "                                  'A.3_DikeIncrease 0':5})]"
   ]
  },
  {
   "cell_type": "code",
   "execution_count": null,
   "metadata": {
    "pycharm": {
     "name": "#%%\n",
     "is_executing": true
    }
   },
   "outputs": [
    {
     "name": "stderr",
     "output_type": "stream",
     "text": [
      "[MainProcess/INFO] pool started with 16 workers\n",
      "[MainProcess/INFO] performing 100 scenarios * 3 policies * 1 model(s) = 300 experiments\n",
      "  0%|                                                  | 0/300 [00:00<?, ?it/s]"
     ]
    }
   ],
   "source": [
    "#pass the policies list to EMA workbench experiment runs\n",
    "n_scenarios = 100\n",
    "with MultiprocessingEvaluator(dike_model) as evaluator:\n",
    "    results = evaluator.perform_experiments(n_scenarios,\n",
    "                                            policies)"
   ]
  },
  {
   "cell_type": "code",
   "execution_count": null,
   "metadata": {
    "collapsed": true,
    "jupyter": {
     "outputs_hidden": true
    },
    "pycharm": {
     "name": "#%%\n",
     "is_executing": true
    }
   },
   "outputs": [],
   "source": []
  }
 ],
 "metadata": {
  "kernelspec": {
   "display_name": "Python 3",
   "language": "python",
   "name": "python3"
  },
  "language_info": {
   "codemirror_mode": {
    "name": "ipython",
    "version": 3
   },
   "file_extension": ".py",
   "mimetype": "text/x-python",
   "name": "python",
   "nbconvert_exporter": "python",
   "pygments_lexer": "ipython3",
   "version": "3.8.5"
  }
 },
 "nbformat": 4,
 "nbformat_minor": 4
}